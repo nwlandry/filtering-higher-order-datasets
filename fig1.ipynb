{
 "cells": [
  {
   "cell_type": "code",
   "execution_count": null,
   "metadata": {},
   "outputs": [],
   "source": [
    "import xgi\n",
    "import matplotlib.pyplot as plt\n",
    "from matplotlib import gridspec\n",
    "import numpy as np\n",
    "import itertools\n",
    "from mpl_toolkits import mplot3d"
   ]
  },
  {
   "cell_type": "code",
   "execution_count": null,
   "metadata": {},
   "outputs": [],
   "source": [
    "links = [[1, 2], [1, 3], [5, 6], [1, 7]]\n",
    "triangles = [[3, 5, 7], [2, 7, 1], [6, 10, 15]]\n",
    "squares = [[7, 8, 9, 10]]\n",
    "pentagons = [[1, 11, 12, 13, 14]]\n",
    "edges = links + triangles + squares + pentagons\n",
    "\n",
    "H = xgi.Hypergraph(edges)\n",
    "pos = xgi.barycenter_spring_layout(H, seed=2)\n",
    "\n",
    "link_color = \"#000000\"\n",
    "triangle_color = \"#648FFF\"\n",
    "square_color = \"#785EF0\"\n",
    "pentagon_color = \"#DC267F\"\n",
    "colors = [link_color, triangle_color, square_color, pentagon_color]\n",
    "\n",
    "\n",
    "def color_edges(H):\n",
    "    return [colors[i - 2] for i in H.edges.filterby(\"order\", 1, \"gt\").size.aslist()]"
   ]
  },
  {
   "cell_type": "code",
   "execution_count": null,
   "metadata": {},
   "outputs": [],
   "source": [
    "H = xgi.Hypergraph(edges)\n",
    "\n",
    "filtering_parameters = np.arange(\n",
    "    H.edges.size.min(), H.edges.size.max() + 1, 1, dtype=int\n",
    ")\n",
    "\n",
    "uniform_filtering = [\n",
    "    xgi.subhypergraph(H, edges=H.edges.filterby(\"size\", k, \"eq\")).copy()\n",
    "    for k in filtering_parameters\n",
    "]\n",
    "geq_filtering = [\n",
    "    xgi.subhypergraph(H, edges=H.edges.filterby(\"size\", k, \"geq\")).copy()\n",
    "    for k in filtering_parameters\n",
    "]\n",
    "leq_filtering = [\n",
    "    xgi.subhypergraph(H, edges=H.edges.filterby(\"size\", k, \"leq\")).copy()\n",
    "    for k in filtering_parameters\n",
    "]\n",
    "exclusion_filtering = [\n",
    "    xgi.subhypergraph(H, edges=H.edges.filterby(\"size\", k, \"neq\")).copy()\n",
    "    for k in filtering_parameters\n",
    "]\n",
    "filterings = [uniform_filtering, geq_filtering, leq_filtering, exclusion_filtering]"
   ]
  },
  {
   "cell_type": "code",
   "execution_count": null,
   "metadata": {},
   "outputs": [],
   "source": [
    "pos = xgi.pca_transform(xgi.pairwise_spring_layout(H, seed=3))\n",
    "\n",
    "fig = plt.figure(layout=\"constrained\", figsize=(8, 4))\n",
    "\n",
    "gs_leftright = gridspec.GridSpec(1, 3, figure=fig, wspace=0.075)\n",
    "\n",
    "gs_panels = gridspec.GridSpecFromSubplotSpec(4, 4, subplot_spec=gs_leftright[1:])\n",
    "\n",
    "ax_left = fig.add_subplot(gs_leftright[0])\n",
    "ec = color_edges(H)\n",
    "xgi.draw(\n",
    "    H, pos=pos, ax=ax_left, edge_fc=ec, node_size=7, node_lw=0.5, dyad_lw=0.75, alpha=1\n",
    ")\n",
    "\n",
    "labels = [r\"$H_{(=, k)}$\", r\"$H_{(\\geq, k)}$\", r\"$H_{(\\leq, k)}$\", r\"$H_{(\\neq, k)}$\"]\n",
    "\n",
    "for i, j in itertools.product(range(4), repeat=2):\n",
    "    ax = fig.add_subplot(gs_panels[i, j])\n",
    "    ec = color_edges(filterings[i][j])\n",
    "    xgi.draw(\n",
    "        filterings[i][j],\n",
    "        pos=pos,\n",
    "        ax=ax,\n",
    "        node_size=4,\n",
    "        dyad_lw=0.75,\n",
    "        node_lw=0.5,\n",
    "        edge_fc=ec,\n",
    "        alpha=1,\n",
    "    )\n",
    "    if i == 0:\n",
    "        ax.set_title(rf\"$k={j + 2}$\")\n",
    "\n",
    "    if j == 0:\n",
    "        ax.text(-3.5, 0, labels[i], fontsize=16)\n",
    "plt.savefig(\"Figures/fig1.pdf\", dpi=1000)\n",
    "plt.savefig(\"Figures/fig1.png\", dpi=1000)\n",
    "plt.show()"
   ]
  },
  {
   "cell_type": "code",
   "execution_count": null,
   "metadata": {},
   "outputs": [],
   "source": [
    "def get_assortativity(filtering, assortativity_fcn, **kwargs):\n",
    "    a = np.zeros(len(filtering))\n",
    "    for i in range(len(filtering)):\n",
    "        try:\n",
    "            a[i] = assortativity_fcn(filtering[i], **kwargs)\n",
    "        except:\n",
    "            a[i] = np.NaN\n",
    "    return a\n",
    "\n",
    "\n",
    "da = get_assortativity(filterings[0], xgi.dynamical_assortativity)"
   ]
  },
  {
   "cell_type": "code",
   "execution_count": null,
   "metadata": {},
   "outputs": [],
   "source": [
    "import seaborn as sns\n",
    "\n",
    "fig = plt.figure(figsize=(8, 6))\n",
    "ax = fig.add_subplot(1, 1, 1, projection=\"3d\")\n",
    "ax.set_axis_off()\n",
    "xgi.draw_multilayer(H, ax=ax)\n",
    "plt.savefig(\"Figures/multilayer_test.svg\", dpi=1000)\n",
    "plt.show()"
   ]
  },
  {
   "cell_type": "code",
   "execution_count": null,
   "metadata": {},
   "outputs": [],
   "source": [
    "fig = plt.figure(figsize=(8, 6), dpi=100)\n",
    "ax = fig.add_subplot(1, 1, 1)\n",
    "ax.plot(da, filtering_parameters, \"^-\", markersize=10)\n",
    "ax.set_xticks([-0.2, -0.1, 0], [-0.2, -0.1, 0], fontsize=20)\n",
    "ax.set_yticks([2, 3, 4, 5], [\"\", \"\", \"\", \"\"])\n",
    "sns.despine()\n",
    "plt.savefig(\"Figures/multilayer_function_test.svg\", dpi=1000)"
   ]
  }
 ],
 "metadata": {
  "kernelspec": {
   "display_name": "hyper",
   "language": "python",
   "name": "python3"
  },
  "language_info": {
   "codemirror_mode": {
    "name": "ipython",
    "version": 3
   },
   "file_extension": ".py",
   "mimetype": "text/x-python",
   "name": "python",
   "nbconvert_exporter": "python",
   "pygments_lexer": "ipython3",
   "version": "3.10.0"
  },
  "orig_nbformat": 4
 },
 "nbformat": 4,
 "nbformat_minor": 2
}

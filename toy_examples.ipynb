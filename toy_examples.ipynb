{
 "cells": [
  {
   "cell_type": "markdown",
   "metadata": {},
   "source": [
    "# Toy example\n",
    "\n",
    "This notebook computes the dynamical assortativity for a sunflower hypergraph."
   ]
  },
  {
   "cell_type": "markdown",
   "metadata": {},
   "source": [
    "### Functions\n",
    "\n",
    "This block contains\n",
    "* An algorithm to generate sunflower hypergraphs for a list of different edge sizes.\n",
    "* An expression that returns the dynamical assortativity computed analytically for the sunflower"
   ]
  },
  {
   "cell_type": "code",
   "execution_count": null,
   "metadata": {},
   "outputs": [],
   "source": [
    "import xgi\n",
    "import numpy as np\n",
    "import matplotlib.pyplot as plt\n",
    "\n",
    "\n",
    "def super_sunflower(sizes, n_p, c):\n",
    "    \"\"\"Generate a sunflower hypergraph for a list of different sizes.\n",
    "\n",
    "    Parameters\n",
    "    ----------\n",
    "    sizes : list\n",
    "        List of edge sizes\n",
    "    n_p : int > 0\n",
    "        Number of petals\n",
    "    c : int > 0\n",
    "        size of the sunflower center\n",
    "\n",
    "    Returns\n",
    "    -------\n",
    "    xgi.Hypergraph\n",
    "        sunflower hypergraph\n",
    "\n",
    "    Raises\n",
    "    ------\n",
    "    Exception\n",
    "        If the sunflower center is larger than the edge size.\n",
    "    \"\"\"\n",
    "    n = n_p * (max(sizes) - c) + c\n",
    "    H = xgi.Hypergraph()\n",
    "    H.add_nodes_from(range(n))\n",
    "\n",
    "    if c >= min(sizes):\n",
    "        raise Exception(\"Center cannot be larger or equal to the edge size!\")\n",
    "\n",
    "    # nodes 0,...,c-1 are at the center.\n",
    "    for k in sizes:\n",
    "        for petal in range(n_p):\n",
    "            start = c + petal * int((n - c) / n_p)\n",
    "            edge = [i for i in range(c)] + [i for i in range(start, start + k - c)]\n",
    "            H.add_edge(edge)\n",
    "    return H\n",
    "\n",
    "\n",
    "def sunflower_dynamical_assortativity(k, n_p, c):\n",
    "    \"\"\"Computes the dynamical assortativity for a\n",
    "    sunflower hypergraph.\n",
    "\n",
    "    Parameters\n",
    "    ----------\n",
    "    k : int\n",
    "        edge size\n",
    "    n_p : int > 0\n",
    "        Number of petals\n",
    "    c : int > 0\n",
    "        size of the sunflower center\n",
    "\n",
    "    Returns\n",
    "    -------\n",
    "    float\n",
    "        dynamical assortativity\n",
    "    \"\"\"\n",
    "    return -c * (k - c) * (n_p - 1) ** 2 / ((k - 1) * (k + c * (n_p - 1)) ** 2)"
   ]
  },
  {
   "cell_type": "markdown",
   "metadata": {},
   "source": [
    "### Plot the dynamical assortativity\n",
    "\n",
    "This section uses the dynamical assortativity expression above to plot the assortativity with respect to interaction size for the sunflower hypergraph."
   ]
  },
  {
   "cell_type": "code",
   "execution_count": null,
   "metadata": {},
   "outputs": [],
   "source": [
    "axis_label_fontsize = 14\n",
    "\n",
    "# A list of filtering parameters\n",
    "k = np.arange(4, 100, 1)\n",
    "\n",
    "#\n",
    "n_p_list = np.arange(2, 10, 1, dtype=int)\n",
    "c_list = np.arange(2, 10, 1, dtype=int)\n",
    "\n",
    "colormap = plt.cm.plasma\n",
    "cmap1 = lambda x: colormap(np.interp(x, n_p_list, np.linspace(0.1, 0.8, len(n_p_list))))\n",
    "cmap2 = lambda x: colormap(np.interp(x, c_list, np.linspace(0.1, 0.8, len(c_list))))\n",
    "\n",
    "\n",
    "plt.figure(figsize=(10, 4))\n",
    "plt.subplot(121)\n",
    "c = 3\n",
    "# plot the dynamical assortativity with respect to the filtering parameter\n",
    "# for different numbers of petals\n",
    "for n_p in n_p_list:\n",
    "    rho = sunflower_dynamical_assortativity(k, n_p, c)\n",
    "    plt.plot(k, rho, color=cmap1(n_p), label=rf\"$n_p={n_p}$\")\n",
    "\n",
    "plt.xlabel(r\"$k$\", fontsize=axis_label_fontsize)\n",
    "plt.ylabel(r\"$\\rho$\", fontsize=axis_label_fontsize)\n",
    "\n",
    "plt.xlim([3, 100])\n",
    "plt.ylim([-0.15, 0.01])\n",
    "plt.yticks([-0.15, -0.1, -0.05, 0], [r\"$-0.15$\", r\"$-0.1$\", r\"$-0.05$\", r\"$0$\"])\n",
    "plt.text(85, -0.135, \"(a)\", fontsize=18)\n",
    "\n",
    "plt.subplot(122)\n",
    "n_p = 5\n",
    "k = np.arange(10, 100, 1)\n",
    "\n",
    "# plot the dynamical assortativity with respect to the filtering parameter\n",
    "# for different sizes of the sunflower center.\n",
    "for c in c_list:\n",
    "    rho = sunflower_dynamical_assortativity(k, n_p, c)\n",
    "    plt.plot(k, rho, color=cmap2(c), label=rf\"$c={c}$\")\n",
    "\n",
    "plt.xlim([3, 100])\n",
    "plt.ylim([-0.15, 0.01])\n",
    "plt.yticks([-0.15, -0.1, -0.05, 0], [r\"$-0.15$\", r\"$-0.1$\", r\"$-0.05$\", r\"$0$\"])\n",
    "plt.text(85, -0.135, \"(b)\", fontsize=18)\n",
    "plt.xlabel(r\"$k$\", fontsize=axis_label_fontsize)\n",
    "plt.tight_layout()\n",
    "plt.savefig(\"Figures/sunflower_assortativity.png\", dpi=1000)\n",
    "plt.savefig(\"Figures/sunflower_assortativity.pdf\", dpi=1000)\n",
    "plt.show()"
   ]
  },
  {
   "cell_type": "code",
   "execution_count": null,
   "metadata": {},
   "outputs": [],
   "source": [
    "sizes = np.arange(4, 20, 1, dtype=int)\n",
    "# sizes = [10]\n",
    "n_p = 5\n",
    "c = 2\n",
    "dataset = super_sunflower(sizes, n_p, c)"
   ]
  },
  {
   "cell_type": "code",
   "execution_count": null,
   "metadata": {},
   "outputs": [],
   "source": [
    "xgi.draw(dataset, node_size=7)"
   ]
  }
 ],
 "metadata": {
  "kernelspec": {
   "display_name": "Python 3 (ipykernel)",
   "language": "python",
   "name": "python3"
  },
  "language_info": {
   "codemirror_mode": {
    "name": "ipython",
    "version": 3
   },
   "file_extension": ".py",
   "mimetype": "text/x-python",
   "name": "python",
   "nbconvert_exporter": "python",
   "pygments_lexer": "ipython3",
   "version": "3.10.0"
  }
 },
 "nbformat": 4,
 "nbformat_minor": 2
}
